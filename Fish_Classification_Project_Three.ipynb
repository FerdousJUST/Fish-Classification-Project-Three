{
  "nbformat": 4,
  "nbformat_minor": 0,
  "metadata": {
    "colab": {
      "provenance": [],
      "mount_file_id": "1Y2kik4RT3gy-e2Y9AId4Kltn8U9ssDTj",
      "authorship_tag": "ABX9TyOt3jliTMf08TKsPx6aLtjF",
      "include_colab_link": true
    },
    "kernelspec": {
      "name": "python3",
      "display_name": "Python 3"
    },
    "language_info": {
      "name": "python"
    },
    "accelerator": "GPU",
    "gpuClass": "standard"
  },
  "cells": [
    {
      "cell_type": "markdown",
      "metadata": {
        "id": "view-in-github",
        "colab_type": "text"
      },
      "source": [
        "<a href=\"https://colab.research.google.com/github/FerdousJUST/Fish-Classification-Project-Three/blob/main/Fish_Classification_Project_Three.ipynb\" target=\"_parent\"><img src=\"https://colab.research.google.com/assets/colab-badge.svg\" alt=\"Open In Colab\"/></a>"
      ]
    },
    {
      "cell_type": "code",
      "execution_count": 6,
      "metadata": {
        "id": "fCaK7Ssi_OVX"
      },
      "outputs": [],
      "source": [
        "import os\n",
        "import numpy as np\n",
        "import pandas as pd\n",
        "import matplotlib.pyplot as plt\n",
        "import cv2\n",
        "import imageio\n",
        "import pathlib\n",
        "%matplotlib inline"
      ]
    },
    {
      "cell_type": "code",
      "source": [
        "import tensorflow as tf\n",
        "tf.test.gpu_device_name()"
      ],
      "metadata": {
        "colab": {
          "base_uri": "https://localhost:8080/",
          "height": 35
        },
        "id": "X04ChZZABOdf",
        "outputId": "b10dd08c-50ef-4aaf-c28c-8fd5c5b7ca52"
      },
      "execution_count": 5,
      "outputs": [
        {
          "output_type": "execute_result",
          "data": {
            "text/plain": [
              "'/device:GPU:0'"
            ],
            "application/vnd.google.colaboratory.intrinsic+json": {
              "type": "string"
            }
          },
          "metadata": {},
          "execution_count": 5
        }
      ]
    },
    {
      "cell_type": "code",
      "source": [
        "from keras.preprocessing.image import ImageDataGenerator\n",
        "rescaled = ImageDataGenerator(1/255)\n",
        "train_fed = rescaled.flow_from_directory(\n",
        "    '/content/drive/Shareddrives/Research Collaboration/Image_Classification_Dataset/Training',\n",
        "                                target_size=(128,128),batch_size=32,class_mode= 'categorical') \n",
        "test_fed = rescaled.flow_from_directory(\n",
        "    '/content/drive/Shareddrives/Research Collaboration/Image_Classification_Dataset/Validation',\n",
        "                                target_size=(128,128),batch_size=32,class_mode= 'categorical')"
      ],
      "metadata": {
        "colab": {
          "base_uri": "https://localhost:8080/"
        },
        "id": "_JIzk-e1BOXt",
        "outputId": "00f11ae2-1d85-4be9-ee01-957b720000fa"
      },
      "execution_count": 7,
      "outputs": [
        {
          "output_type": "stream",
          "name": "stdout",
          "text": [
            "Found 4800 images belonging to 4 classes.\n",
            "Found 1200 images belonging to 4 classes.\n"
          ]
        }
      ]
    },
    {
      "cell_type": "code",
      "source": [
        "from tensorflow.keras.layers import Input,Flatten,Dense\n",
        "from tensorflow.keras.models import Model\n",
        "from tensorflow.keras.models import Sequential"
      ],
      "metadata": {
        "id": "tR6ad0vsBOSM"
      },
      "execution_count": 8,
      "outputs": []
    },
    {
      "cell_type": "code",
      "source": [
        "model = tf.keras.models.Sequential([tf.keras.layers.Conv2D(16,kernel_size=(3,3),activation = 'relu',input_shape = (128,128,3)),\n",
        "                                    tf.keras.layers.MaxPool2D(2,2), tf.keras.layers.Dropout(0.2),\n",
        "                                    \n",
        "                                    tf.keras.layers.Conv2D(32,kernel_size=(3,3),activation = 'relu'),\n",
        "                                    tf.keras.layers.MaxPool2D(2,2), tf.keras.layers.Dropout(0.2),\n",
        "\n",
        "                                    tf.keras.layers.Conv2D(64,kernel_size=(3,3),activation = 'relu'),\n",
        "                                    tf.keras.layers.MaxPool2D(2,2), tf.keras.layers.Dropout(0.2),\n",
        "\n",
        "                                    tf.keras.layers.Conv2D(128,kernel_size=(3,3),activation = 'relu'),\n",
        "                                    tf.keras.layers.MaxPool2D(2,2), tf.keras.layers.Dropout(0.2),\n",
        "\n",
        "                                    tf.keras.layers.Conv2D(256,kernel_size=(3,3),activation = 'relu'),\n",
        "                                    tf.keras.layers.MaxPool2D(2,2), tf.keras.layers.Dropout(0.2),                                  \n",
        "\n",
        "                                    tf.keras.layers.Flatten(),\n",
        "\n",
        "                                    tf.keras.layers.Dense(512,activation = 'relu'),\n",
        "                                    tf.keras.layers.Dropout(0.5),\n",
        "                                    tf.keras.layers.Dense(4,activation = 'softmax')\n",
        "                                    ])"
      ],
      "metadata": {
        "id": "iUrhyGfwBOLU"
      },
      "execution_count": 11,
      "outputs": []
    },
    {
      "cell_type": "code",
      "source": [
        "model.summary()"
      ],
      "metadata": {
        "colab": {
          "base_uri": "https://localhost:8080/"
        },
        "id": "ECEcAorBBOIa",
        "outputId": "62ecbf10-459d-4714-d502-4c1a20a20968"
      },
      "execution_count": 12,
      "outputs": [
        {
          "output_type": "stream",
          "name": "stdout",
          "text": [
            "Model: \"sequential_2\"\n",
            "_________________________________________________________________\n",
            " Layer (type)                Output Shape              Param #   \n",
            "=================================================================\n",
            " conv2d_11 (Conv2D)          (None, 126, 126, 16)      448       \n",
            "                                                                 \n",
            " max_pooling2d_11 (MaxPoolin  (None, 63, 63, 16)       0         \n",
            " g2D)                                                            \n",
            "                                                                 \n",
            " dropout_13 (Dropout)        (None, 63, 63, 16)        0         \n",
            "                                                                 \n",
            " conv2d_12 (Conv2D)          (None, 61, 61, 32)        4640      \n",
            "                                                                 \n",
            " max_pooling2d_12 (MaxPoolin  (None, 30, 30, 32)       0         \n",
            " g2D)                                                            \n",
            "                                                                 \n",
            " dropout_14 (Dropout)        (None, 30, 30, 32)        0         \n",
            "                                                                 \n",
            " conv2d_13 (Conv2D)          (None, 28, 28, 64)        18496     \n",
            "                                                                 \n",
            " max_pooling2d_13 (MaxPoolin  (None, 14, 14, 64)       0         \n",
            " g2D)                                                            \n",
            "                                                                 \n",
            " dropout_15 (Dropout)        (None, 14, 14, 64)        0         \n",
            "                                                                 \n",
            " conv2d_14 (Conv2D)          (None, 12, 12, 128)       73856     \n",
            "                                                                 \n",
            " max_pooling2d_14 (MaxPoolin  (None, 6, 6, 128)        0         \n",
            " g2D)                                                            \n",
            "                                                                 \n",
            " dropout_16 (Dropout)        (None, 6, 6, 128)         0         \n",
            "                                                                 \n",
            " conv2d_15 (Conv2D)          (None, 4, 4, 256)         295168    \n",
            "                                                                 \n",
            " max_pooling2d_15 (MaxPoolin  (None, 2, 2, 256)        0         \n",
            " g2D)                                                            \n",
            "                                                                 \n",
            " dropout_17 (Dropout)        (None, 2, 2, 256)         0         \n",
            "                                                                 \n",
            " flatten_2 (Flatten)         (None, 1024)              0         \n",
            "                                                                 \n",
            " dense_4 (Dense)             (None, 512)               524800    \n",
            "                                                                 \n",
            " dropout_18 (Dropout)        (None, 512)               0         \n",
            "                                                                 \n",
            " dense_5 (Dense)             (None, 4)                 2052      \n",
            "                                                                 \n",
            "=================================================================\n",
            "Total params: 919,460\n",
            "Trainable params: 919,460\n",
            "Non-trainable params: 0\n",
            "_________________________________________________________________\n"
          ]
        }
      ]
    },
    {
      "cell_type": "code",
      "source": [
        "from tensorflow.keras.optimizers import Adam\n",
        "model.compile(loss = 'categorical_crossentropy',optimizer = 'Adam',metrics = ['accuracy'])"
      ],
      "metadata": {
        "id": "2jf96vuRBOD9"
      },
      "execution_count": 13,
      "outputs": []
    },
    {
      "cell_type": "code",
      "source": [
        "from keras.callbacks import EarlyStopping,ModelCheckpoint,ReduceLROnPlateau\n",
        "import h5py"
      ],
      "metadata": {
        "id": "WTJbl51fBmfn"
      },
      "execution_count": 14,
      "outputs": []
    },
    {
      "cell_type": "code",
      "source": [
        "erl_stop = EarlyStopping(monitor = 'val_loss',patience = 3,restore_best_weights=True)\n",
        "mod_chk = ModelCheckpoint(\n",
        "    filepath='/content/drive/Shareddrives/Research Collaboration/Ferdous MSc Project/part two/my_model.hdf5',\n",
        "                          monitor = 'val_loss',save_best_only = True)\n",
        "lr_rate = ReduceLROnPlateau(monitor = 'val_loss',patience = 3,factor = 0.1)"
      ],
      "metadata": {
        "id": "wFT1BQdGBmai"
      },
      "execution_count": 15,
      "outputs": []
    },
    {
      "cell_type": "code",
      "source": [
        "hist = model.fit_generator(train_fed, shuffle = True, epochs=10, validation_data=test_fed,\n",
        "                           callbacks = [erl_stop,mod_chk,lr_rate],verbose = 2\n",
        "                           )"
      ],
      "metadata": {
        "colab": {
          "base_uri": "https://localhost:8080/"
        },
        "id": "831TNnqBBmWX",
        "outputId": "0424a27d-edb6-4c8e-e860-36755a508b5c"
      },
      "execution_count": 16,
      "outputs": [
        {
          "output_type": "stream",
          "name": "stderr",
          "text": [
            "<ipython-input-16-da3407ffa4b4>:1: UserWarning: `Model.fit_generator` is deprecated and will be removed in a future version. Please use `Model.fit`, which supports generators.\n",
            "  hist = model.fit_generator(train_fed, shuffle = True, epochs=10, validation_data=test_fed,\n",
            "/usr/local/lib/python3.8/dist-packages/keras/preprocessing/image.py:1663: UserWarning: This ImageDataGenerator specifies `featurewise_center`, but it hasn't been fit on any training data. Fit it first by calling `.fit(numpy_data)`.\n",
            "  warnings.warn('This ImageDataGenerator specifies '\n"
          ]
        },
        {
          "output_type": "stream",
          "name": "stdout",
          "text": [
            "Epoch 1/10\n",
            "150/150 - 3112s - loss: 4.7802 - accuracy: 0.3560 - val_loss: 1.0285 - val_accuracy: 0.5042 - lr: 0.0010 - 3112s/epoch - 21s/step\n",
            "Epoch 2/10\n",
            "150/150 - 34s - loss: 0.9568 - accuracy: 0.5352 - val_loss: 1.0426 - val_accuracy: 0.4975 - lr: 0.0010 - 34s/epoch - 226ms/step\n",
            "Epoch 3/10\n",
            "150/150 - 35s - loss: 0.7366 - accuracy: 0.6698 - val_loss: 0.8643 - val_accuracy: 0.5950 - lr: 0.0010 - 35s/epoch - 232ms/step\n",
            "Epoch 4/10\n",
            "150/150 - 34s - loss: 0.5316 - accuracy: 0.7877 - val_loss: 0.6968 - val_accuracy: 0.6408 - lr: 0.0010 - 34s/epoch - 229ms/step\n",
            "Epoch 5/10\n",
            "150/150 - 34s - loss: 0.4384 - accuracy: 0.8338 - val_loss: 0.8977 - val_accuracy: 0.6383 - lr: 0.0010 - 34s/epoch - 225ms/step\n",
            "Epoch 6/10\n",
            "150/150 - 34s - loss: 0.3589 - accuracy: 0.8646 - val_loss: 0.6171 - val_accuracy: 0.6900 - lr: 0.0010 - 34s/epoch - 228ms/step\n",
            "Epoch 7/10\n",
            "150/150 - 36s - loss: 0.3176 - accuracy: 0.8871 - val_loss: 0.4539 - val_accuracy: 0.7892 - lr: 0.0010 - 36s/epoch - 238ms/step\n",
            "Epoch 8/10\n",
            "150/150 - 34s - loss: 0.2767 - accuracy: 0.8979 - val_loss: 0.8132 - val_accuracy: 0.6992 - lr: 0.0010 - 34s/epoch - 225ms/step\n",
            "Epoch 9/10\n",
            "150/150 - 34s - loss: 0.2818 - accuracy: 0.9019 - val_loss: 0.3220 - val_accuracy: 0.8783 - lr: 0.0010 - 34s/epoch - 229ms/step\n",
            "Epoch 10/10\n",
            "150/150 - 34s - loss: 0.2015 - accuracy: 0.9269 - val_loss: 0.3076 - val_accuracy: 0.9075 - lr: 0.0010 - 34s/epoch - 229ms/step\n"
          ]
        }
      ]
    },
    {
      "cell_type": "code",
      "source": [
        "plt.plot(hist.history['loss'],color = 'blue',label = 'train')\n",
        "plt.plot(hist.history['val_loss'],color = 'orange',label = 'train')\n",
        "plt.grid(True)\n",
        "plt.title(\"Train & Test loss with epochs\\n\",fontsize = 16)\n",
        "plt.xlabel(\"Training Epochs\",fontsize= 12)\n",
        "plt.ylabel(\"Train & Test loss\",fontsize =12)\n",
        "plt.show()"
      ],
      "metadata": {
        "colab": {
          "base_uri": "https://localhost:8080/",
          "height": 318
        },
        "id": "pBVtA9cwBmRf",
        "outputId": "3dbabc5f-60eb-461d-d6b9-45eebe928da0"
      },
      "execution_count": 17,
      "outputs": [
        {
          "output_type": "display_data",
          "data": {
            "text/plain": [
              "<Figure size 432x288 with 1 Axes>"
            ],
            "image/png": "[encoded data removed]"
          },
          "metadata": {
            "needs_background": "light"
          }
        }
      ]
    },
    {
      "cell_type": "code",
      "source": [
        "plt.plot(hist.history['accuracy'],color = 'blue',label = 'train')\n",
        "plt.plot(hist.history['val_accuracy'],color = 'orange',label = 'train')\n",
        "plt.grid(True)\n",
        "plt.title(\"Train & Test accuracy with epochs\\n\",fontsize = 16)\n",
        "plt.xlabel(\"Training Epochs\",fontsize= 12)\n",
        "plt.ylabel(\"Train & Test accuracy\",fontsize =12)\n",
        "plt.show()"
      ],
      "metadata": {
        "colab": {
          "base_uri": "https://localhost:8080/",
          "height": 318
        },
        "id": "6rEJfHouB14m",
        "outputId": "4c52d48a-d3c0-4624-ac47-df1d20a788de"
      },
      "execution_count": 18,
      "outputs": [
        {
          "output_type": "display_data",
          "data": {
            "text/plain": [
              "<Figure size 432x288 with 1 Axes>"
            ],
            "image/png": "[encoded data removed]"
          },
          "metadata": {
            "needs_background": "light"
          }
        }
      ]
    },
    {
      "cell_type": "code",
      "source": [
        "acc = model.evaluate(test_fed,steps = len(test_fed),verbose = 2)\n",
        "print('%.2f'%(acc[1]*100))"
      ],
      "metadata": {
        "colab": {
          "base_uri": "https://localhost:8080/"
        },
        "id": "h4KhgdbyB1k1",
        "outputId": "a9a0438b-e7da-4dde-c907-97a3e657bce3"
      },
      "execution_count": 19,
      "outputs": [
        {
          "output_type": "stream",
          "name": "stdout",
          "text": [
            "38/38 - 7s - loss: 0.3076 - accuracy: 0.9075 - 7s/epoch - 174ms/step\n",
            "90.75\n"
          ]
        }
      ]
    },
    {
      "cell_type": "code",
      "source": [
        "from sklearn.metrics import confusion_matrix,classification_report\n",
        "import numpy as np\n",
        "y_pred = hist.predict(train_fed)\n",
        "y_pred_classes = [np.argmax(element) for element in y_pred]\n",
        "print(\"Classification Report:\\n \",classification_report(test_fed,y_pred_classes))"
      ],
      "metadata": {
        "colab": {
          "base_uri": "https://localhost:8080/",
          "height": 235
        },
        "id": "DZfvuwgbCIxV",
        "outputId": "ace6210a-ce8a-42e0-8d4a-e6e21e6e94fe"
      },
      "execution_count": 20,
      "outputs": [
        {
          "output_type": "error",
          "ename": "AttributeError",
          "evalue": "ignored",
          "traceback": [
            "\u001b[0;31m---------------------------------------------------------------------------\u001b[0m",
            "\u001b[0;31mAttributeError\u001b[0m                            Traceback (most recent call last)",
            "\u001b[0;32m<ipython-input-20-eac7491ce6ed>\u001b[0m in \u001b[0;36m<module>\u001b[0;34m\u001b[0m\n\u001b[1;32m      1\u001b[0m \u001b[0;32mfrom\u001b[0m \u001b[0msklearn\u001b[0m\u001b[0;34m.\u001b[0m\u001b[0mmetrics\u001b[0m \u001b[0;32mimport\u001b[0m \u001b[0mconfusion_matrix\u001b[0m\u001b[0;34m,\u001b[0m\u001b[0mclassification_report\u001b[0m\u001b[0;34m\u001b[0m\u001b[0;34m\u001b[0m\u001b[0m\n\u001b[1;32m      2\u001b[0m \u001b[0;32mimport\u001b[0m \u001b[0mnumpy\u001b[0m \u001b[0;32mas\u001b[0m \u001b[0mnp\u001b[0m\u001b[0;34m\u001b[0m\u001b[0;34m\u001b[0m\u001b[0m\n\u001b[0;32m----> 3\u001b[0;31m \u001b[0my_pred\u001b[0m \u001b[0;34m=\u001b[0m \u001b[0mhist\u001b[0m\u001b[0;34m.\u001b[0m\u001b[0mpredict\u001b[0m\u001b[0;34m(\u001b[0m\u001b[0mtrain_fed\u001b[0m\u001b[0;34m)\u001b[0m\u001b[0;34m\u001b[0m\u001b[0;34m\u001b[0m\u001b[0m\n\u001b[0m\u001b[1;32m      4\u001b[0m \u001b[0my_pred_classes\u001b[0m \u001b[0;34m=\u001b[0m \u001b[0;34m[\u001b[0m\u001b[0mnp\u001b[0m\u001b[0;34m.\u001b[0m\u001b[0margmax\u001b[0m\u001b[0;34m(\u001b[0m\u001b[0melement\u001b[0m\u001b[0;34m)\u001b[0m \u001b[0;32mfor\u001b[0m \u001b[0melement\u001b[0m \u001b[0;32min\u001b[0m \u001b[0my_pred\u001b[0m\u001b[0;34m]\u001b[0m\u001b[0;34m\u001b[0m\u001b[0;34m\u001b[0m\u001b[0m\n\u001b[1;32m      5\u001b[0m \u001b[0mprint\u001b[0m\u001b[0;34m(\u001b[0m\u001b[0;34m\"Classification Report:\\n \"\u001b[0m\u001b[0;34m,\u001b[0m\u001b[0mclassification_report\u001b[0m\u001b[0;34m(\u001b[0m\u001b[0mtest_fed\u001b[0m\u001b[0;34m,\u001b[0m\u001b[0my_pred_classes\u001b[0m\u001b[0;34m)\u001b[0m\u001b[0;34m)\u001b[0m\u001b[0;34m\u001b[0m\u001b[0;34m\u001b[0m\u001b[0m\n",
            "\u001b[0;31mAttributeError\u001b[0m: 'History' object has no attribute 'predict'"
          ]
        }
      ]
    }
  ]
}